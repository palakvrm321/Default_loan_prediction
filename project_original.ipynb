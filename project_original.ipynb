{
  "cells": [
    {
      "cell_type": "code",
      "execution_count": 3,
      "metadata": {
        "colab": {
          "base_uri": "https://localhost:8080/"
        },
        "id": "DDRdSiyY_2VY",
        "outputId": "6b73b16d-e275-445b-f034-9fa55bb8a627"
      },
      "outputs": [
        {
          "name": "stdout",
          "output_type": "stream",
          "text": [
            "       LoanID  Age  Income  LoanAmount  CreditScore  MonthsEmployed  \\\n",
            "0  I38PQUQS96   56   85994       50587          520              80   \n",
            "1  HPSK72WA7R   69   50432      124440          458              15   \n",
            "2  C1OZ6DPJ8Y   46   84208      129188          451              26   \n",
            "3  V2KKSFM3UN   32   31713       44799          743               0   \n",
            "4  EY08JDHTZP   60   20437        9139          633               8   \n",
            "\n",
            "   NumCreditLines  InterestRate  LoanTerm  DTIRatio    Education  \\\n",
            "0               4         15.23        36      0.44   Bachelor's   \n",
            "1               1          4.81        60      0.68     Master's   \n",
            "2               3         21.17        24      0.31     Master's   \n",
            "3               3          7.07        24      0.23  High School   \n",
            "4               4          6.51        48      0.73   Bachelor's   \n",
            "\n",
            "  EmploymentType MaritalStatus HasMortgage HasDependents LoanPurpose  \\\n",
            "0      Full-time      Divorced         Yes           Yes       Other   \n",
            "1      Full-time       Married          No            No       Other   \n",
            "2     Unemployed      Divorced         Yes           Yes        Auto   \n",
            "3      Full-time       Married          No            No    Business   \n",
            "4     Unemployed      Divorced          No           Yes        Auto   \n",
            "\n",
            "  HasCoSigner  Default  \n",
            "0         Yes        0  \n",
            "1         Yes        0  \n",
            "2          No        1  \n",
            "3          No        0  \n",
            "4          No        0  \n"
          ]
        }
      ],
      "source": [
        "\n",
        "import pandas as pd\n",
        "df=pd.read_csv(r\"C:\\Users\\palak\\Downloads\\Original_data.csv\")\n",
        "print(df.head())"
      ]
    },
    {
      "cell_type": "code",
      "execution_count": 4,
      "metadata": {
        "colab": {
          "base_uri": "https://localhost:8080/"
        },
        "id": "JTb2kMWOEwKT",
        "outputId": "ddae4a75-2e90-49fe-9727-39ead4fa32d0"
      },
      "outputs": [
        {
          "data": {
            "text/plain": [
              "(255347, 18)"
            ]
          },
          "execution_count": 4,
          "metadata": {},
          "output_type": "execute_result"
        }
      ],
      "source": [
        "df.shape"
      ]
    },
    {
      "cell_type": "code",
      "execution_count": 5,
      "metadata": {
        "colab": {
          "base_uri": "https://localhost:8080/"
        },
        "id": "rcCnWVKFEuQJ",
        "outputId": "c3506487-2df9-46aa-c41c-37b163d8e43b"
      },
      "outputs": [
        {
          "data": {
            "text/plain": [
              "Index(['LoanID', 'Age', 'Income', 'LoanAmount', 'CreditScore',\n",
              "       'MonthsEmployed', 'NumCreditLines', 'InterestRate', 'LoanTerm',\n",
              "       'DTIRatio', 'Education', 'EmploymentType', 'MaritalStatus',\n",
              "       'HasMortgage', 'HasDependents', 'LoanPurpose', 'HasCoSigner',\n",
              "       'Default'],\n",
              "      dtype='object')"
            ]
          },
          "execution_count": 5,
          "metadata": {},
          "output_type": "execute_result"
        }
      ],
      "source": [
        "df.columns"
      ]
    },
    {
      "cell_type": "code",
      "execution_count": 6,
      "metadata": {
        "colab": {
          "base_uri": "https://localhost:8080/"
        },
        "id": "8uB0pFuKEpUK",
        "outputId": "bd781952-ae52-433d-9873-7f89389b1824"
      },
      "outputs": [
        {
          "data": {
            "text/plain": [
              "array(['Full-time', 'Unemployed', 'Self-employed', 'Part-time'],\n",
              "      dtype=object)"
            ]
          },
          "execution_count": 6,
          "metadata": {},
          "output_type": "execute_result"
        }
      ],
      "source": [
        "df.EmploymentType.unique()"
      ]
    },
    {
      "cell_type": "code",
      "execution_count": 7,
      "metadata": {
        "colab": {
          "base_uri": "https://localhost:8080/"
        },
        "id": "1p8Uzo-jEkhw",
        "outputId": "f4155f82-e1b9-47ee-d466-04e0591cd8f8"
      },
      "outputs": [
        {
          "name": "stdout",
          "output_type": "stream",
          "text": [
            "Python 3.13.3\n",
            "Requirement already satisfied: imbalanced-learn in c:\\users\\palak\\appdata\\local\\programs\\python\\python313\\lib\\site-packages (0.13.0)\n",
            "Requirement already satisfied: numpy<3,>=1.24.3 in c:\\users\\palak\\appdata\\local\\programs\\python\\python313\\lib\\site-packages (from imbalanced-learn) (2.2.6)\n",
            "Requirement already satisfied: scipy<2,>=1.10.1 in c:\\users\\palak\\appdata\\local\\programs\\python\\python313\\lib\\site-packages (from imbalanced-learn) (1.15.3)\n",
            "Requirement already satisfied: scikit-learn<2,>=1.3.2 in c:\\users\\palak\\appdata\\local\\programs\\python\\python313\\lib\\site-packages (from imbalanced-learn) (1.6.1)\n",
            "Requirement already satisfied: sklearn-compat<1,>=0.1 in c:\\users\\palak\\appdata\\local\\programs\\python\\python313\\lib\\site-packages (from imbalanced-learn) (0.1.3)\n",
            "Requirement already satisfied: joblib<2,>=1.1.1 in c:\\users\\palak\\appdata\\local\\programs\\python\\python313\\lib\\site-packages (from imbalanced-learn) (1.5.1)\n",
            "Requirement already satisfied: threadpoolctl<4,>=2.0.0 in c:\\users\\palak\\appdata\\local\\programs\\python\\python313\\lib\\site-packages (from imbalanced-learn) (3.6.0)\n"
          ]
        }
      ],
      "source": [
        "!python --version\n",
        "\n",
        "!pip install imbalanced-learn\n"
      ]
    },
    {
      "cell_type": "code",
      "execution_count": 8,
      "metadata": {
        "colab": {
          "base_uri": "https://localhost:8080/",
          "height": 178
        },
        "id": "tnMJpg5QFDZs",
        "outputId": "5fe9b412-e58c-4f5e-aaa1-90edcd9ec3f0"
      },
      "outputs": [
        {
          "data": {
            "text/plain": [
              "Default\n",
              "0    0.883872\n",
              "1    0.116128\n",
              "Name: proportion, dtype: float64"
            ]
          },
          "execution_count": 8,
          "metadata": {},
          "output_type": "execute_result"
        }
      ],
      "source": [
        "df['Default'].value_counts(normalize=True)"
      ]
    },
    {
      "cell_type": "code",
      "execution_count": 9,
      "metadata": {
        "id": "x19gteoKFNdA"
      },
      "outputs": [],
      "source": [
        "X= df.drop(columns=['Default'])\n",
        "Y= df['Default']\n"
      ]
    },
    {
      "cell_type": "code",
      "execution_count": 13,
      "metadata": {
        "id": "xC6lr6IGFQIe"
      },
      "outputs": [
        {
          "name": "stdout",
          "output_type": "stream",
          "text": [
            "✅ After SMOTE: (451388, 8), Class balance: {0: 225694, 1: 225694}\n"
          ]
        }
      ],
      "source": [
        "\"\"\"# **Balancing Data**\"\"\"\n",
        "\n",
        "# Step 2: Apply SMOTE to balance the classes\n",
        "from imblearn.over_sampling import SMOTE\n",
        "\n",
        "# Use only numeric features (from your earlier list)\n",
        "selected_features = [\n",
        "    'Age', 'Income', 'LoanAmount', 'CreditScore', 'MonthsEmployed',\n",
        "     'InterestRate', 'LoanTerm', 'DTIRatio'\n",
        "]\n",
        "\n",
        "X = df[selected_features]\n",
        "y = df['Default']\n",
        "\n",
        "# Apply SMOTE\n",
        "smote = SMOTE(random_state=42)\n",
        "X_resampled, y_resampled = smote.fit_resample(X, y)\n",
        "\n",
        "print(f\"✅ After SMOTE: {X_resampled.shape}, Class balance: {y_resampled.value_counts().to_dict()}\")\n",
        "\n"
      ]
    },
    {
      "cell_type": "code",
      "execution_count": 14,
      "metadata": {
        "colab": {
          "base_uri": "https://localhost:8080/",
          "height": 178
        },
        "id": "ux2vGNz3FTY9",
        "outputId": "c5d2fa01-f8f6-479d-8432-8d494aa8ba24"
      },
      "outputs": [
        {
          "data": {
            "text/plain": [
              "Default\n",
              "0    0.5\n",
              "1    0.5\n",
              "Name: proportion, dtype: float64"
            ]
          },
          "execution_count": 14,
          "metadata": {},
          "output_type": "execute_result"
        }
      ],
      "source": [
        "# Step 3: Combine resampled features and target variable into a new DataFrame\n",
        "resampled_df = pd.DataFrame(X_resampled, columns=X.columns)\n",
        "resampled_df[\"Default\"] = y_resampled\n",
        "\n",
        "resampled_df.to_csv('Processed_data.csv', index=False)\n",
        "\n",
        "resampled_df.head()\n",
        "\n",
        "resampled_df['Default'].value_counts(normalize=True)"
      ]
    },
    {
      "cell_type": "code",
      "execution_count": 15,
      "metadata": {
        "colab": {
          "base_uri": "https://localhost:8080/"
        },
        "id": "yWFiXR1AFcnA",
        "outputId": "069a9df6-21ac-4d7b-ebd5-3cf8ae96688e"
      },
      "outputs": [
        {
          "data": {
            "text/plain": [
              "((451388, 8), (451388,))"
            ]
          },
          "execution_count": 15,
          "metadata": {},
          "output_type": "execute_result"
        }
      ],
      "source": [
        "\"\"\"# **Feature Reduction**\"\"\"\n",
        "\n",
        "X = resampled_df[['Age', 'Income', 'LoanAmount', 'CreditScore','MonthsEmployed','InterestRate','DTIRatio','LoanTerm']]\n",
        "Y= resampled_df['Default']\n",
        "\n",
        "X.shape,Y.shape"
      ]
    },
    {
      "cell_type": "code",
      "execution_count": 16,
      "metadata": {
        "id": "2ho5xF6eFgGM"
      },
      "outputs": [],
      "source": [
        "# Step 3: Combine resampled features and target variable into a new DataFrame\n",
        "final_df = pd.DataFrame(X, columns=X.columns)\n",
        "final_df[\"Default\"] = Y\n",
        "\n",
        "final_df.head()\n",
        "\n",
        "final_df.shape\n",
        "\n",
        "final_df.to_csv('Selected_features.csv', index=False)\n"
      ]
    },
    {
      "cell_type": "code",
      "execution_count": 17,
      "metadata": {
        "colab": {
          "base_uri": "https://localhost:8080/"
        },
        "id": "feWsmKMaFqL3",
        "outputId": "1b8d1300-6bb8-4312-f865-15c578727d37"
      },
      "outputs": [
        {
          "data": {
            "text/plain": [
              "(255347, 18)"
            ]
          },
          "execution_count": 17,
          "metadata": {},
          "output_type": "execute_result"
        }
      ],
      "source": [
        "df.shape"
      ]
    },
    {
      "cell_type": "code",
      "execution_count": 18,
      "metadata": {
        "colab": {
          "base_uri": "https://localhost:8080/",
          "height": 648
        },
        "id": "22cV1WYnFq2K",
        "outputId": "09070006-4337-4653-a20d-da46d4453c13"
      },
      "outputs": [
        {
          "data": {
            "text/plain": [
              "LoanID            0\n",
              "Age               0\n",
              "Income            0\n",
              "LoanAmount        0\n",
              "CreditScore       0\n",
              "MonthsEmployed    0\n",
              "NumCreditLines    0\n",
              "InterestRate      0\n",
              "LoanTerm          0\n",
              "DTIRatio          0\n",
              "Education         0\n",
              "EmploymentType    0\n",
              "MaritalStatus     0\n",
              "HasMortgage       0\n",
              "HasDependents     0\n",
              "LoanPurpose       0\n",
              "HasCoSigner       0\n",
              "Default           0\n",
              "dtype: int64"
            ]
          },
          "execution_count": 18,
          "metadata": {},
          "output_type": "execute_result"
        }
      ],
      "source": [
        "df.isnull().sum()"
      ]
    },
    {
      "cell_type": "code",
      "execution_count": 19,
      "metadata": {
        "colab": {
          "base_uri": "https://localhost:8080/",
          "height": 335
        },
        "id": "SbaS9nFKFze2",
        "outputId": "97331f09-0bd0-4562-a43f-305f4b706881"
      },
      "outputs": [
        {
          "data": {
            "text/plain": [
              "Age               0\n",
              "Income            0\n",
              "LoanAmount        0\n",
              "CreditScore       0\n",
              "MonthsEmployed    0\n",
              "InterestRate      0\n",
              "DTIRatio          0\n",
              "LoanTerm          0\n",
              "dtype: int64"
            ]
          },
          "execution_count": 19,
          "metadata": {},
          "output_type": "execute_result"
        }
      ],
      "source": [
        "\"\"\"# TrainTest Split\"\"\"\n",
        "\n",
        "from sklearn.model_selection import train_test_split\n",
        "X_train, X_test, y_train, y_test = train_test_split(X, Y, test_size=0.2, random_state=7,stratify = Y)\n",
        "\n",
        "X_train.head()\n",
        "\n",
        "X_train.isnull().sum()\n"
      ]
    },
    {
      "cell_type": "code",
      "execution_count": 20,
      "metadata": {
        "colab": {
          "base_uri": "https://localhost:8080/"
        },
        "id": "6lw_TfrOF2CC",
        "outputId": "d0c4c08a-1728-4639-d65b-63dea8297e5c"
      },
      "outputs": [
        {
          "data": {
            "text/plain": [
              "[(np.float64(0.34417827405943013), 'LoanTerm'),\n",
              " (np.float64(0.13383252916726077), 'Age'),\n",
              " (np.float64(0.12421017444519757), 'InterestRate'),\n",
              " (np.float64(0.09982788854927357), 'Income'),\n",
              " (np.float64(0.0943410347682023), 'LoanAmount')]"
            ]
          },
          "execution_count": 20,
          "metadata": {},
          "output_type": "execute_result"
        }
      ],
      "source": [
        "\"\"\"# **Getting Feature importance**\n",
        "\n",
        "# APPLY DECISION TREE\n",
        "\"\"\"\n",
        "\n",
        "from sklearn.tree import DecisionTreeClassifier\n",
        "\n",
        "dt = DecisionTreeClassifier(random_state = 7)\n",
        "dt.fit(X_train,y_train)\n",
        "\n",
        "# importance of all features\n",
        "sorted(zip(dt.feature_importances_,X_train.columns),reverse = True)\n",
        "\n",
        "# 2) mean importance take col > mean import\n",
        "mean_imp = sum(dt.feature_importances_)/len(dt.feature_importances_)\n",
        "X_train.columns[dt.feature_importances_ > mean_imp ]\n",
        "\n",
        "# 3) Select top 5\n",
        "sorted(zip(dt.feature_importances_,X_train.columns),reverse = True)[:5]"
      ]
    },
    {
      "cell_type": "code",
      "execution_count": 21,
      "metadata": {
        "colab": {
          "base_uri": "https://localhost:8080/"
        },
        "id": "iGmkL5thF9AD",
        "outputId": "8aabeebe-a141-4e07-83ef-6e44d8db5a25"
      },
      "outputs": [
        {
          "name": "stdout",
          "output_type": "stream",
          "text": [
            "Income = 1\n",
            "InterestRate = 1\n",
            "LoanAmount = 1\n",
            "LoanTerm = 1\n",
            "Age = 2\n",
            "CreditScore = 3\n",
            "MonthsEmployed = 4\n",
            "DTIRatio = 5\n",
            "Column Count =  4\n"
          ]
        },
        {
          "data": {
            "text/plain": [
              "Index(['Income', 'LoanAmount', 'InterestRate', 'LoanTerm'], dtype='object')"
            ]
          },
          "execution_count": 21,
          "metadata": {},
          "output_type": "execute_result"
        }
      ],
      "source": [
        "\"\"\"# APPLY RFE\"\"\"\n",
        "\n",
        "from sklearn.feature_selection import RFE\n",
        "\n",
        "rfe = RFE(dt)\n",
        "rfe.fit(X_train,y_train)\n",
        "\n",
        "for imp,col in sorted(zip(rfe.ranking_,X_train.columns)):\n",
        "    print(f\"{col} = {imp}\")\n",
        "\n",
        "#2) important column rank = 1\n",
        "\n",
        "print(\"Column Count = \",len(X_train.columns[rfe.ranking_ == 1  ]))\n",
        "X_train.columns[rfe.ranking_ == 1 ]"
      ]
    },
    {
      "cell_type": "code",
      "execution_count": 23,
      "metadata": {
        "colab": {
          "base_uri": "https://localhost:8080/",
          "height": 1000
        },
        "id": "zhSkjnbaF9De",
        "outputId": "00a08a42-054a-4c64-ae13-5881f44ea285"
      },
      "outputs": [
        {
          "data": {
            "image/png": "[encoded data removed]",
            "text/plain": [
              "<Figure size 800x600 with 1 Axes>"
            ]
          },
          "metadata": {},
          "output_type": "display_data"
        },
        {
          "name": "stdout",
          "output_type": "stream",
          "text": [
            "                     Age    Income  LoanAmount  CreditScore  MonthsEmployed  \\\n",
            "Age             1.000000  0.015184   -0.019221     0.011782        0.033018   \n",
            "Income          0.015184  1.000000   -0.069877     0.000375        0.009705   \n",
            "LoanAmount     -0.019221 -0.069877    1.000000    -0.001781       -0.007089   \n",
            "CreditScore     0.011782  0.000375   -0.001781     1.000000        0.010286   \n",
            "MonthsEmployed  0.033018  0.009705   -0.007089     0.010286        1.000000   \n",
            "InterestRate   -0.047432 -0.014351    0.009952    -0.008029       -0.022212   \n",
            "LoanTerm        0.000639 -0.000211   -0.000392     0.001362       -0.001372   \n",
            "DTIRatio       -0.011840 -0.000454    0.002259     0.001314       -0.003029   \n",
            "Default        -0.295708 -0.150234    0.135298    -0.060132       -0.169656   \n",
            "\n",
            "                InterestRate  LoanTerm  DTIRatio   Default  \n",
            "Age                -0.047432  0.000639 -0.011840 -0.295708  \n",
            "Income             -0.014351 -0.000211 -0.000454 -0.150234  \n",
            "LoanAmount          0.009952 -0.000392  0.002259  0.135298  \n",
            "CreditScore        -0.008029  0.001362  0.001314 -0.060132  \n",
            "MonthsEmployed     -0.022212 -0.001372 -0.003029 -0.169656  \n",
            "InterestRate        1.000000 -0.000548  0.005227  0.220965  \n",
            "LoanTerm           -0.000548  1.000000  0.003979 -0.008753  \n",
            "DTIRatio            0.005227  0.003979  1.000000  0.033027  \n",
            "Default             0.220965 -0.008753  0.033027  1.000000  \n"
          ]
        },
        {
          "data": {
            "image/png": "[encoded data removed]",
            "text/plain": [
              "<Figure size 1200x1000 with 2 Axes>"
            ]
          },
          "metadata": {},
          "output_type": "display_data"
        },
        {
          "data": {
            "text/plain": [
              "((315971, 8), (135417, 8), (315971,), (135417,))"
            ]
          },
          "execution_count": 23,
          "metadata": {},
          "output_type": "execute_result"
        }
      ],
      "source": [
        "import pandas as pd\n",
        "import seaborn as sns\n",
        "import matplotlib.pyplot as plt\n",
        "\n",
        "# The error was caused because the original `df` still contained\n",
        "# non-numeric columns. Using the one-hot encoded dataframe `X_encoded`\n",
        "# which contains only numeric data.\n",
        "X_for_corr = resampled_df.copy()\n",
        "# X_for_corr['Default'] = y_resampled # This line is not needed as resampled_df already has the 'Default' column\n",
        "\n",
        "\n",
        "plt.figure(figsize=(8, 6))\n",
        "sns.boxplot(x=X_for_corr[\"Default\"], y=X_for_corr[\"LoanAmount\"])\n",
        "plt.title(\"Box Plot of Loan Amount by Class\")\n",
        "plt.xlabel(\"Class (0 = No Default, 1 = Default)\")\n",
        "plt.ylabel(\"Loan Amount\")\n",
        "plt.show()\n",
        "\n",
        "\"\"\"# Correlation\"\"\"\n",
        "\n",
        "# Compute correlation matrix\n",
        "correlation_matrix = X_for_corr.corr()\n",
        "\n",
        "# Print correlation matrix\n",
        "print(correlation_matrix)\n",
        "\n",
        "\"\"\"# HeatMap\"\"\"\n",
        "\n",
        "import seaborn as sns\n",
        "import matplotlib.pyplot as plt\n",
        "\n",
        "# Create a heatmap\n",
        "plt.figure(figsize=(12, 10))\n",
        "sns.heatmap(correlation_matrix, annot=False, cmap=\"coolwarm\")\n",
        "\n",
        "# Show the plot\n",
        "plt.title(\"Correlation Heatmap\")\n",
        "plt.show()\n",
        "\n",
        "X = X_resampled\n",
        "Y= y_resampled\n",
        "\n",
        "from sklearn.model_selection import train_test_split\n",
        "X_train,X_test,Y_train,Y_test = train_test_split(X,Y,test_size=0.3,random_state=7)\n",
        "\n",
        "X_train.shape,X_test.shape,Y_train.shape,Y_test.shape"
      ]
    },
    {
      "cell_type": "code",
      "execution_count": 25,
      "metadata": {
        "colab": {
          "base_uri": "https://localhost:8080/"
        },
        "id": "mmaWUk9VGJz2",
        "outputId": "9cfd41a5-0caf-4993-a159-442e045b7e14"
      },
      "outputs": [
        {
          "name": "stdout",
          "output_type": "stream",
          "text": [
            "✅ Accuracy: 0.8185\n",
            "🔁 Recall: 0.8192\n",
            "\n",
            "📊 Confusion Matrix:\n",
            "[[55495 12367]\n",
            " [12217 55338]]\n",
            "\n",
            "📋 Classification Report:\n"
          ]
        },
        {
          "name": "stderr",
          "output_type": "stream",
          "text": [
            "/usr/local/lib/python3.11/dist-packages/sklearn/linear_model/_logistic.py:465: ConvergenceWarning: lbfgs failed to converge (status=1):\n",
            "STOP: TOTAL NO. OF ITERATIONS REACHED LIMIT.\n",
            "\n",
            "Increase the number of iterations (max_iter) or scale the data as shown in:\n",
            "    https://scikit-learn.org/stable/modules/preprocessing.html\n",
            "Please also refer to the documentation for alternative solver options:\n",
            "    https://scikit-learn.org/stable/modules/linear_model.html#logistic-regression\n",
            "  n_iter_i = _check_optimize_result(\n"
          ]
        }
      ],
      "source": [
        "from sklearn.linear_model import LogisticRegression\n",
        "from sklearn.metrics import accuracy_score, confusion_matrix, classification_report, recall_score\n",
        "\n",
        "# Use balanced class weights to improve recall on minority class\n",
        "logreg = LogisticRegression(class_weight='balanced', random_state=7, max_iter=1000)\n",
        "\n",
        "# Fit the model\n",
        "logreg.fit(X_train, Y_train)\n",
        "\n",
        "# Predict\n",
        "y_pred = logreg.predict(X_test)\n",
        "\n",
        "# Evaluate\n",
        "accuracy = accuracy_score(Y_test, y_pred)\n",
        "recall = recall_score(Y_test, y_pred)\n",
        "conf_matrix = confusion_matrix(Y_test, y_pred)\n",
        "\n",
        "\n",
        "print(f\"✅ Accuracy: {accuracy:.4f}\")\n",
        "print(f\"🔁 Recall: {recall:.4f}\")\n",
        "print(\"\\n📊 Confusion Matrix:\")\n",
        "print(conf_matrix)\n",
        "\n",
        "\n"
      ]
    },
    {
      "cell_type": "code",
      "execution_count": 26,
      "metadata": {
        "colab": {
          "base_uri": "https://localhost:8080/"
        },
        "id": "21MFLMq3KUQq",
        "outputId": "9419ae66-0259-40a6-adbd-83d3e797b79e"
      },
      "outputs": [
        {
          "name": "stdout",
          "output_type": "stream",
          "text": [
            "🌲 Random Forest\n",
            "✅ Accuracy: 0.8786\n",
            "🔁 Recall: 0.8514\n",
            "[[61466  6396]\n",
            " [10038 57517]]\n",
            "              precision    recall  f1-score   support\n",
            "\n",
            "           0       0.86      0.91      0.88     67862\n",
            "           1       0.90      0.85      0.87     67555\n",
            "\n",
            "    accuracy                           0.88    135417\n",
            "   macro avg       0.88      0.88      0.88    135417\n",
            "weighted avg       0.88      0.88      0.88    135417\n",
            "\n"
          ]
        }
      ],
      "source": [
        "from sklearn.ensemble import RandomForestClassifier\n",
        "from sklearn.metrics import accuracy_score, confusion_matrix, classification_report, recall_score\n",
        "\n",
        "rf = RandomForestClassifier(class_weight='balanced', random_state=7, n_jobs=-1)\n",
        "rf.fit(X_train, Y_train)\n",
        "\n",
        "y_pred_rf = rf.predict(X_test)\n",
        "\n",
        "print(\"🌲 Random Forest\")\n",
        "print(f\"✅ Accuracy: {accuracy_score(Y_test, y_pred_rf):.4f}\")\n",
        "print(f\"🔁 Recall: {recall_score(Y_test, y_pred_rf):.4f}\")\n",
        "print(confusion_matrix(Y_test, y_pred_rf))\n",
        "print(classification_report(Y_test, y_pred_rf))"
      ]
    },
    {
      "cell_type": "code",
      "execution_count": 31,
      "metadata": {},
      "outputs": [
        {
          "name": "stdout",
          "output_type": "stream",
          "text": [
            "Collecting xgboost\n",
            "  Using cached xgboost-3.0.3-py3-none-win_amd64.whl.metadata (2.1 kB)\n",
            "Requirement already satisfied: numpy in c:\\users\\palak\\appdata\\local\\programs\\python\\python313\\lib\\site-packages (from xgboost) (2.2.6)\n",
            "Requirement already satisfied: scipy in c:\\users\\palak\\appdata\\local\\programs\\python\\python313\\lib\\site-packages (from xgboost) (1.15.3)\n",
            "Using cached xgboost-3.0.3-py3-none-win_amd64.whl (149.9 MB)\n",
            "Installing collected packages: xgboost\n",
            "Successfully installed xgboost-3.0.3\n"
          ]
        }
      ],
      "source": [
        "!pip install xgboost"
      ]
    },
    {
      "cell_type": "code",
      "execution_count": 32,
      "metadata": {
        "colab": {
          "base_uri": "https://localhost:8080/"
        },
        "id": "nlfAzr8aKHT4",
        "outputId": "c79e5877-4a92-4234-f5a3-c51d9ccf05a5"
      },
      "outputs": [
        {
          "name": "stderr",
          "output_type": "stream",
          "text": [
            "c:\\Users\\palak\\AppData\\Local\\Programs\\Python\\Python313\\Lib\\site-packages\\xgboost\\training.py:183: UserWarning: [15:45:27] WARNING: C:\\actions-runner\\_work\\xgboost\\xgboost\\src\\learner.cc:738: \n",
            "Parameters: { \"use_label_encoder\" } are not used.\n",
            "\n",
            "  bst.update(dtrain, iteration=i, fobj=obj)\n"
          ]
        },
        {
          "name": "stdout",
          "output_type": "stream",
          "text": [
            "\n",
            "⚡ XGBoost\n",
            "✅ Accuracy: 0.8891\n",
            "🔁 Recall: 0.8150\n",
            "[[65338  2524]\n",
            " [12498 55057]]\n",
            "              precision    recall  f1-score   support\n",
            "\n",
            "           0       0.84      0.96      0.90     67862\n",
            "           1       0.96      0.81      0.88     67555\n",
            "\n",
            "    accuracy                           0.89    135417\n",
            "   macro avg       0.90      0.89      0.89    135417\n",
            "weighted avg       0.90      0.89      0.89    135417\n",
            "\n"
          ]
        }
      ],
      "source": [
        "from xgboost import XGBClassifier\n",
        "\n",
        "xgb = XGBClassifier(scale_pos_weight=Y_train.value_counts()[0] / Y_train.value_counts()[1],\n",
        "                    use_label_encoder=False, eval_metric='logloss', random_state=7)\n",
        "xgb.fit(X_train, Y_train)\n",
        "\n",
        "y_pred_xgb = xgb.predict(X_test)\n",
        "\n",
        "print(\"\\n⚡ XGBoost\")\n",
        "print(f\"✅ Accuracy: {accuracy_score(Y_test, y_pred_xgb):.4f}\")\n",
        "print(f\"🔁 Recall: {recall_score(Y_test, y_pred_xgb):.4f}\")\n",
        "print(confusion_matrix(Y_test, y_pred_xgb))\n",
        "print(classification_report(Y_test, y_pred_xgb))\n"
      ]
    },
    {
      "cell_type": "code",
      "execution_count": 33,
      "metadata": {
        "colab": {
          "base_uri": "https://localhost:8080/"
        },
        "id": "mvrnpOH5GpNn",
        "outputId": "0e7160b7-cb10-440d-a94f-58ad11b3c268"
      },
      "outputs": [
        {
          "name": "stdout",
          "output_type": "stream",
          "text": [
            "Collecting catboost\n",
            "  Downloading catboost-1.2.8-cp313-cp313-win_amd64.whl.metadata (1.5 kB)\n",
            "Collecting graphviz (from catboost)\n",
            "  Downloading graphviz-0.21-py3-none-any.whl.metadata (12 kB)\n",
            "Requirement already satisfied: matplotlib in c:\\users\\palak\\appdata\\local\\programs\\python\\python313\\lib\\site-packages (from catboost) (3.10.3)\n",
            "Requirement already satisfied: numpy<3.0,>=1.16.0 in c:\\users\\palak\\appdata\\local\\programs\\python\\python313\\lib\\site-packages (from catboost) (2.2.6)\n",
            "Requirement already satisfied: pandas>=0.24 in c:\\users\\palak\\appdata\\local\\programs\\python\\python313\\lib\\site-packages (from catboost) (2.3.0)\n",
            "Requirement already satisfied: scipy in c:\\users\\palak\\appdata\\local\\programs\\python\\python313\\lib\\site-packages (from catboost) (1.15.3)\n",
            "Collecting plotly (from catboost)\n",
            "  Downloading plotly-6.2.0-py3-none-any.whl.metadata (8.5 kB)\n",
            "Requirement already satisfied: six in c:\\users\\palak\\appdata\\roaming\\python\\python313\\site-packages (from catboost) (1.17.0)\n",
            "Requirement already satisfied: python-dateutil>=2.8.2 in c:\\users\\palak\\appdata\\roaming\\python\\python313\\site-packages (from pandas>=0.24->catboost) (2.9.0.post0)\n",
            "Requirement already satisfied: pytz>=2020.1 in c:\\users\\palak\\appdata\\local\\programs\\python\\python313\\lib\\site-packages (from pandas>=0.24->catboost) (2025.2)\n",
            "Requirement already satisfied: tzdata>=2022.7 in c:\\users\\palak\\appdata\\local\\programs\\python\\python313\\lib\\site-packages (from pandas>=0.24->catboost) (2025.2)\n",
            "Requirement already satisfied: contourpy>=1.0.1 in c:\\users\\palak\\appdata\\local\\programs\\python\\python313\\lib\\site-packages (from matplotlib->catboost) (1.3.2)\n",
            "Requirement already satisfied: cycler>=0.10 in c:\\users\\palak\\appdata\\local\\programs\\python\\python313\\lib\\site-packages (from matplotlib->catboost) (0.12.1)\n",
            "Requirement already satisfied: fonttools>=4.22.0 in c:\\users\\palak\\appdata\\local\\programs\\python\\python313\\lib\\site-packages (from matplotlib->catboost) (4.58.2)\n",
            "Requirement already satisfied: kiwisolver>=1.3.1 in c:\\users\\palak\\appdata\\local\\programs\\python\\python313\\lib\\site-packages (from matplotlib->catboost) (1.4.8)\n",
            "Requirement already satisfied: packaging>=20.0 in c:\\users\\palak\\appdata\\roaming\\python\\python313\\site-packages (from matplotlib->catboost) (25.0)\n",
            "Requirement already satisfied: pillow>=8 in c:\\users\\palak\\appdata\\local\\programs\\python\\python313\\lib\\site-packages (from matplotlib->catboost) (11.2.1)\n",
            "Requirement already satisfied: pyparsing>=2.3.1 in c:\\users\\palak\\appdata\\local\\programs\\python\\python313\\lib\\site-packages (from matplotlib->catboost) (3.2.3)\n",
            "Collecting narwhals>=1.15.1 (from plotly->catboost)\n",
            "  Downloading narwhals-2.0.1-py3-none-any.whl.metadata (11 kB)\n",
            "Downloading catboost-1.2.8-cp313-cp313-win_amd64.whl (102.4 MB)\n",
            "   ---------------------------------------- 0.0/102.4 MB ? eta -:--:--\n",
            "   ---------------------------------------- 1.0/102.4 MB 11.3 MB/s eta 0:00:09\n",
            "   -- ------------------------------------- 5.8/102.4 MB 19.1 MB/s eta 0:00:06\n",
            "   ----- ---------------------------------- 12.8/102.4 MB 25.0 MB/s eta 0:00:04\n",
            "   ------- -------------------------------- 19.1/102.4 MB 26.3 MB/s eta 0:00:04\n",
            "   ---------- ----------------------------- 26.5/102.4 MB 28.4 MB/s eta 0:00:03\n",
            "   ------------- -------------------------- 33.8/102.4 MB 29.6 MB/s eta 0:00:03\n",
            "   --------------- ------------------------ 40.9/102.4 MB 30.4 MB/s eta 0:00:03\n",
            "   ------------------ --------------------- 48.0/102.4 MB 31.0 MB/s eta 0:00:02\n",
            "   --------------------- ------------------ 54.5/102.4 MB 31.0 MB/s eta 0:00:02\n",
            "   ----------------------- ---------------- 60.8/102.4 MB 30.9 MB/s eta 0:00:02\n",
            "   -------------------------- ------------- 67.6/102.4 MB 31.0 MB/s eta 0:00:02\n",
            "   ---------------------------- ----------- 72.1/102.4 MB 30.3 MB/s eta 0:00:02\n",
            "   ----------------------------- ---------- 74.7/102.4 MB 28.9 MB/s eta 0:00:01\n",
            "   ------------------------------ --------- 77.6/102.4 MB 27.6 MB/s eta 0:00:01\n",
            "   ------------------------------- -------- 80.5/102.4 MB 26.7 MB/s eta 0:00:01\n",
            "   -------------------------------- ------- 83.1/102.4 MB 25.7 MB/s eta 0:00:01\n",
            "   --------------------------------- ------ 85.5/102.4 MB 24.9 MB/s eta 0:00:01\n",
            "   ---------------------------------- ----- 88.1/102.4 MB 24.2 MB/s eta 0:00:01\n",
            "   ----------------------------------- ---- 90.7/102.4 MB 23.5 MB/s eta 0:00:01\n",
            "   ------------------------------------ --- 92.8/102.4 MB 22.9 MB/s eta 0:00:01\n",
            "   ------------------------------------- -- 95.4/102.4 MB 22.4 MB/s eta 0:00:01\n",
            "   -------------------------------------- - 97.5/102.4 MB 21.7 MB/s eta 0:00:01\n",
            "   ---------------------------------------  99.9/102.4 MB 21.3 MB/s eta 0:00:01\n",
            "   --------------------------------------  102.2/102.4 MB 20.9 MB/s eta 0:00:01\n",
            "   --------------------------------------  102.2/102.4 MB 20.9 MB/s eta 0:00:01\n",
            "   ---------------------------------------- 102.4/102.4 MB 20.0 MB/s  0:00:05\n",
            "Downloading graphviz-0.21-py3-none-any.whl (47 kB)\n",
            "Downloading plotly-6.2.0-py3-none-any.whl (9.6 MB)\n",
            "   ---------------------------------------- 0.0/9.6 MB ? eta -:--:--\n",
            "   ---------- ----------------------------- 2.6/9.6 MB 13.1 MB/s eta 0:00:01\n",
            "   ---------------------- ----------------- 5.5/9.6 MB 13.6 MB/s eta 0:00:01\n",
            "   ----------------------------------- ---- 8.7/9.6 MB 14.3 MB/s eta 0:00:01\n",
            "   ---------------------------------------- 9.6/9.6 MB 13.9 MB/s  0:00:00\n",
            "Downloading narwhals-2.0.1-py3-none-any.whl (385 kB)\n",
            "Installing collected packages: narwhals, graphviz, plotly, catboost\n",
            "\n",
            "   ---------------------------------------- 0/4 [narwhals]\n",
            "   ---------------------------------------- 0/4 [narwhals]\n",
            "   ---------------------------------------- 0/4 [narwhals]\n",
            "   ---------- ----------------------------- 1/4 [graphviz]\n",
            "   -------------------- ------------------- 2/4 [plotly]\n",
            "   -------------------- ------------------- 2/4 [plotly]\n",
            "   -------------------- ------------------- 2/4 [plotly]\n",
            "   -------------------- ------------------- 2/4 [plotly]\n",
            "   -------------------- ------------------- 2/4 [plotly]\n",
            "   -------------------- ------------------- 2/4 [plotly]\n",
            "   -------------------- ------------------- 2/4 [plotly]\n",
            "   -------------------- ------------------- 2/4 [plotly]\n",
            "   -------------------- ------------------- 2/4 [plotly]\n",
            "   -------------------- ------------------- 2/4 [plotly]\n",
            "   -------------------- ------------------- 2/4 [plotly]\n",
            "   -------------------- ------------------- 2/4 [plotly]\n",
            "   -------------------- ------------------- 2/4 [plotly]\n",
            "   -------------------- ------------------- 2/4 [plotly]\n",
            "   -------------------- ------------------- 2/4 [plotly]\n",
            "   -------------------- ------------------- 2/4 [plotly]\n",
            "   -------------------- ------------------- 2/4 [plotly]\n",
            "   -------------------- ------------------- 2/4 [plotly]\n",
            "   -------------------- ------------------- 2/4 [plotly]\n",
            "   -------------------- ------------------- 2/4 [plotly]\n",
            "   -------------------- ------------------- 2/4 [plotly]\n",
            "   -------------------- ------------------- 2/4 [plotly]\n",
            "   -------------------- ------------------- 2/4 [plotly]\n",
            "   -------------------- ------------------- 2/4 [plotly]\n",
            "   -------------------- ------------------- 2/4 [plotly]\n",
            "   -------------------- ------------------- 2/4 [plotly]\n",
            "   -------------------- ------------------- 2/4 [plotly]\n",
            "   -------------------- ------------------- 2/4 [plotly]\n",
            "   -------------------- ------------------- 2/4 [plotly]\n",
            "   -------------------- ------------------- 2/4 [plotly]\n",
            "   -------------------- ------------------- 2/4 [plotly]\n",
            "   -------------------- ------------------- 2/4 [plotly]\n",
            "   ------------------------------ --------- 3/4 [catboost]\n",
            "   ------------------------------ --------- 3/4 [catboost]\n",
            "   ------------------------------ --------- 3/4 [catboost]\n",
            "   ------------------------------ --------- 3/4 [catboost]\n",
            "   ------------------------------ --------- 3/4 [catboost]\n",
            "   ------------------------------ --------- 3/4 [catboost]\n",
            "   ------------------------------ --------- 3/4 [catboost]\n",
            "   ------------------------------ --------- 3/4 [catboost]\n",
            "   ------------------------------ --------- 3/4 [catboost]\n",
            "   ------------------------------ --------- 3/4 [catboost]\n",
            "   ------------------------------ --------- 3/4 [catboost]\n",
            "   ---------------------------------------- 4/4 [catboost]\n",
            "\n",
            "Successfully installed catboost-1.2.8 graphviz-0.21 narwhals-2.0.1 plotly-6.2.0\n",
            "Note: you may need to restart the kernel to use updated packages.\n",
            "\n",
            "🐱 CatBoost\n",
            "✅ Accuracy: 0.9308\n",
            "🔁 Recall: 0.8699\n",
            "[[67285   577]\n",
            " [ 8788 58767]]\n",
            "              precision    recall  f1-score   support\n",
            "\n",
            "           0       0.88      0.99      0.93     67862\n",
            "           1       0.99      0.87      0.93     67555\n",
            "\n",
            "    accuracy                           0.93    135417\n",
            "   macro avg       0.94      0.93      0.93    135417\n",
            "weighted avg       0.94      0.93      0.93    135417\n",
            "\n"
          ]
        }
      ],
      "source": [
        "%pip install catboost\n",
        "from catboost import CatBoostClassifier\n",
        "\n",
        "cat = CatBoostClassifier(auto_class_weights='Balanced', verbose=0, random_state=7)\n",
        "cat.fit(X_train, Y_train)\n",
        "\n",
        "y_pred_cat = cat.predict(X_test)\n",
        "\n",
        "print(\"\\n🐱 CatBoost\")\n",
        "print(f\"✅ Accuracy: {accuracy_score(Y_test, y_pred_cat):.4f}\")\n",
        "print(f\"🔁 Recall: {recall_score(Y_test, y_pred_cat):.4f}\")\n",
        "print(confusion_matrix(Y_test, y_pred_cat))\n",
        "print(classification_report(Y_test, y_pred_cat))\n"
      ]
    },
    {
      "cell_type": "code",
      "execution_count": 41,
      "metadata": {
        "colab": {
          "base_uri": "https://localhost:8080/"
        },
        "id": "p6pewVrgLWz_",
        "outputId": "b344cf1a-9c19-4ca9-b5fb-0dae92f8d4cc"
      },
      "outputs": [
        {
          "name": "stdout",
          "output_type": "stream",
          "text": [
            "✅ CatBoost model saved as best_catboost_model.pkl\n"
          ]
        }
      ],
      "source": [
        "import joblib\n",
        "\n",
        "# Save the best model\n",
        "joblib.dump(cat, \"best_catboost_model.pkl\")\n",
        "print(\"✅ CatBoost model saved as best_catboost_model.pkl\")\n"
      ]
    },
    {
      "cell_type": "code",
      "execution_count": 42,
      "metadata": {
        "colab": {
          "base_uri": "https://localhost:8080/"
        },
        "id": "BD09LP35MRNw",
        "outputId": "780cc6e2-db18-4a65-94a3-09fb16c706b9"
      },
      "outputs": [
        {
          "name": "stdout",
          "output_type": "stream",
          "text": [
            "📦 CatBoost model exported to ONNX format at: catboost_model.onnx\n"
          ]
        }
      ],
      "source": [
        "from catboost import Pool\n",
        "\n",
        "onnx_path = \"catboost_model.onnx\"\n",
        "\n",
        "cat.save_model(\n",
        "    fname=onnx_path,\n",
        "    format=\"onnx\",\n",
        "    export_parameters={\n",
        "        'onnx_domain': 'ai.catboost',\n",
        "        'onnx_model_version': 1,\n",
        "        'onnx_doc_string': 'CatBoost Loan Default Model'\n",
        "    },\n",
        "    pool=Pool(X_train, Y_train)\n",
        ")\n",
        "\n",
        "print(f\"📦 CatBoost model exported to ONNX format at: {onnx_path}\")"
      ]
    },
    {
      "cell_type": "code",
      "execution_count": 36,
      "metadata": {},
      "outputs": [
        {
          "name": "stdout",
          "output_type": "stream",
          "text": [
            "Collecting streamlit\n",
            "  Downloading streamlit-1.47.1-py3-none-any.whl.metadata (9.0 kB)\n",
            "Collecting altair<6,>=4.0 (from streamlit)\n",
            "  Downloading altair-5.5.0-py3-none-any.whl.metadata (11 kB)\n",
            "Collecting blinker<2,>=1.5.0 (from streamlit)\n",
            "  Downloading blinker-1.9.0-py3-none-any.whl.metadata (1.6 kB)\n",
            "Collecting cachetools<7,>=4.0 (from streamlit)\n",
            "  Downloading cachetools-6.1.0-py3-none-any.whl.metadata (5.4 kB)\n",
            "Collecting click<9,>=7.0 (from streamlit)\n",
            "  Downloading click-8.2.1-py3-none-any.whl.metadata (2.5 kB)\n",
            "Requirement already satisfied: numpy<3,>=1.23 in c:\\users\\palak\\appdata\\local\\programs\\python\\python313\\lib\\site-packages (from streamlit) (2.2.6)\n",
            "Requirement already satisfied: packaging<26,>=20 in c:\\users\\palak\\appdata\\roaming\\python\\python313\\site-packages (from streamlit) (25.0)\n",
            "Requirement already satisfied: pandas<3,>=1.4.0 in c:\\users\\palak\\appdata\\local\\programs\\python\\python313\\lib\\site-packages (from streamlit) (2.3.0)\n",
            "Requirement already satisfied: pillow<12,>=7.1.0 in c:\\users\\palak\\appdata\\local\\programs\\python\\python313\\lib\\site-packages (from streamlit) (11.2.1)\n",
            "Collecting protobuf<7,>=3.20 (from streamlit)\n",
            "  Downloading protobuf-6.31.1-cp310-abi3-win_amd64.whl.metadata (593 bytes)\n",
            "Collecting pyarrow>=7.0 (from streamlit)\n",
            "  Downloading pyarrow-21.0.0-cp313-cp313-win_amd64.whl.metadata (3.4 kB)\n",
            "Requirement already satisfied: requests<3,>=2.27 in c:\\users\\palak\\appdata\\local\\programs\\python\\python313\\lib\\site-packages (from streamlit) (2.32.3)\n",
            "Collecting tenacity<10,>=8.1.0 (from streamlit)\n",
            "  Downloading tenacity-9.1.2-py3-none-any.whl.metadata (1.2 kB)\n",
            "Collecting toml<2,>=0.10.1 (from streamlit)\n",
            "  Downloading toml-0.10.2-py2.py3-none-any.whl.metadata (7.1 kB)\n",
            "Requirement already satisfied: typing-extensions<5,>=4.4.0 in c:\\users\\palak\\appdata\\local\\programs\\python\\python313\\lib\\site-packages (from streamlit) (4.14.0)\n",
            "Collecting watchdog<7,>=2.1.5 (from streamlit)\n",
            "  Downloading watchdog-6.0.0-py3-none-win_amd64.whl.metadata (44 kB)\n",
            "Collecting gitpython!=3.1.19,<4,>=3.0.7 (from streamlit)\n",
            "  Downloading gitpython-3.1.45-py3-none-any.whl.metadata (13 kB)\n",
            "Collecting pydeck<1,>=0.8.0b4 (from streamlit)\n",
            "  Downloading pydeck-0.9.1-py2.py3-none-any.whl.metadata (4.1 kB)\n",
            "Requirement already satisfied: tornado!=6.5.0,<7,>=6.0.3 in c:\\users\\palak\\appdata\\roaming\\python\\python313\\site-packages (from streamlit) (6.5.1)\n",
            "Requirement already satisfied: jinja2 in c:\\users\\palak\\appdata\\local\\programs\\python\\python313\\lib\\site-packages (from altair<6,>=4.0->streamlit) (3.1.6)\n",
            "Requirement already satisfied: jsonschema>=3.0 in c:\\users\\palak\\appdata\\local\\programs\\python\\python313\\lib\\site-packages (from altair<6,>=4.0->streamlit) (4.24.0)\n",
            "Requirement already satisfied: narwhals>=1.14.2 in c:\\users\\palak\\appdata\\local\\programs\\python\\python313\\lib\\site-packages (from altair<6,>=4.0->streamlit) (2.0.1)\n",
            "Requirement already satisfied: colorama in c:\\users\\palak\\appdata\\roaming\\python\\python313\\site-packages (from click<9,>=7.0->streamlit) (0.4.6)\n",
            "Collecting gitdb<5,>=4.0.1 (from gitpython!=3.1.19,<4,>=3.0.7->streamlit)\n",
            "  Downloading gitdb-4.0.12-py3-none-any.whl.metadata (1.2 kB)\n",
            "Collecting smmap<6,>=3.0.1 (from gitdb<5,>=4.0.1->gitpython!=3.1.19,<4,>=3.0.7->streamlit)\n",
            "  Downloading smmap-5.0.2-py3-none-any.whl.metadata (4.3 kB)\n",
            "Requirement already satisfied: python-dateutil>=2.8.2 in c:\\users\\palak\\appdata\\roaming\\python\\python313\\site-packages (from pandas<3,>=1.4.0->streamlit) (2.9.0.post0)\n",
            "Requirement already satisfied: pytz>=2020.1 in c:\\users\\palak\\appdata\\local\\programs\\python\\python313\\lib\\site-packages (from pandas<3,>=1.4.0->streamlit) (2025.2)\n",
            "Requirement already satisfied: tzdata>=2022.7 in c:\\users\\palak\\appdata\\local\\programs\\python\\python313\\lib\\site-packages (from pandas<3,>=1.4.0->streamlit) (2025.2)\n",
            "Requirement already satisfied: charset-normalizer<4,>=2 in c:\\users\\palak\\appdata\\local\\programs\\python\\python313\\lib\\site-packages (from requests<3,>=2.27->streamlit) (3.4.2)\n",
            "Requirement already satisfied: idna<4,>=2.5 in c:\\users\\palak\\appdata\\local\\programs\\python\\python313\\lib\\site-packages (from requests<3,>=2.27->streamlit) (3.10)\n",
            "Requirement already satisfied: urllib3<3,>=1.21.1 in c:\\users\\palak\\appdata\\local\\programs\\python\\python313\\lib\\site-packages (from requests<3,>=2.27->streamlit) (2.4.0)\n",
            "Requirement already satisfied: certifi>=2017.4.17 in c:\\users\\palak\\appdata\\local\\programs\\python\\python313\\lib\\site-packages (from requests<3,>=2.27->streamlit) (2025.4.26)\n",
            "Requirement already satisfied: MarkupSafe>=2.0 in c:\\users\\palak\\appdata\\local\\programs\\python\\python313\\lib\\site-packages (from jinja2->altair<6,>=4.0->streamlit) (3.0.2)\n",
            "Requirement already satisfied: attrs>=22.2.0 in c:\\users\\palak\\appdata\\local\\programs\\python\\python313\\lib\\site-packages (from jsonschema>=3.0->altair<6,>=4.0->streamlit) (25.3.0)\n",
            "Requirement already satisfied: jsonschema-specifications>=2023.03.6 in c:\\users\\palak\\appdata\\local\\programs\\python\\python313\\lib\\site-packages (from jsonschema>=3.0->altair<6,>=4.0->streamlit) (2025.4.1)\n",
            "Requirement already satisfied: referencing>=0.28.4 in c:\\users\\palak\\appdata\\local\\programs\\python\\python313\\lib\\site-packages (from jsonschema>=3.0->altair<6,>=4.0->streamlit) (0.36.2)\n",
            "Requirement already satisfied: rpds-py>=0.7.1 in c:\\users\\palak\\appdata\\local\\programs\\python\\python313\\lib\\site-packages (from jsonschema>=3.0->altair<6,>=4.0->streamlit) (0.25.1)\n",
            "Requirement already satisfied: six>=1.5 in c:\\users\\palak\\appdata\\roaming\\python\\python313\\site-packages (from python-dateutil>=2.8.2->pandas<3,>=1.4.0->streamlit) (1.17.0)\n",
            "Downloading streamlit-1.47.1-py3-none-any.whl (9.9 MB)\n",
            "   ---------------------------------------- 0.0/9.9 MB ? eta -:--:--\n",
            "   ---- ----------------------------------- 1.0/9.9 MB 5.0 MB/s eta 0:00:02\n",
            "   -------- ------------------------------- 2.1/9.9 MB 4.9 MB/s eta 0:00:02\n",
            "   ----------- ---------------------------- 2.9/9.9 MB 4.9 MB/s eta 0:00:02\n",
            "   --------------- ------------------------ 3.9/9.9 MB 4.9 MB/s eta 0:00:02\n",
            "   -------------------- ------------------- 5.0/9.9 MB 4.9 MB/s eta 0:00:02\n",
            "   ------------------------ --------------- 6.0/9.9 MB 5.0 MB/s eta 0:00:01\n",
            "   ---------------------------- ----------- 7.1/9.9 MB 5.0 MB/s eta 0:00:01\n",
            "   -------------------------------- ------- 8.1/9.9 MB 5.0 MB/s eta 0:00:01\n",
            "   ------------------------------------ --- 9.2/9.9 MB 5.0 MB/s eta 0:00:01\n",
            "   ---------------------------------------- 9.9/9.9 MB 4.9 MB/s  0:00:02\n",
            "Downloading altair-5.5.0-py3-none-any.whl (731 kB)\n",
            "   ---------------------------------------- 0.0/731.2 kB ? eta -:--:--\n",
            "   ---------------------------------------- 731.2/731.2 kB 4.1 MB/s  0:00:00\n",
            "Downloading blinker-1.9.0-py3-none-any.whl (8.5 kB)\n",
            "Downloading cachetools-6.1.0-py3-none-any.whl (11 kB)\n",
            "Downloading click-8.2.1-py3-none-any.whl (102 kB)\n",
            "Downloading gitpython-3.1.45-py3-none-any.whl (208 kB)\n",
            "Downloading gitdb-4.0.12-py3-none-any.whl (62 kB)\n",
            "Downloading protobuf-6.31.1-cp310-abi3-win_amd64.whl (435 kB)\n",
            "Downloading pydeck-0.9.1-py2.py3-none-any.whl (6.9 MB)\n",
            "   ---------------------------------------- 0.0/6.9 MB ? eta -:--:--\n",
            "   ---- ----------------------------------- 0.8/6.9 MB 4.6 MB/s eta 0:00:02\n",
            "   ---------- ----------------------------- 1.8/6.9 MB 4.4 MB/s eta 0:00:02\n",
            "   --------------- ------------------------ 2.6/6.9 MB 4.4 MB/s eta 0:00:01\n",
            "   --------------------- ------------------ 3.7/6.9 MB 4.4 MB/s eta 0:00:01\n",
            "   --------------------------- ------------ 4.7/6.9 MB 4.5 MB/s eta 0:00:01\n",
            "   ------------------------------- -------- 5.5/6.9 MB 4.5 MB/s eta 0:00:01\n",
            "   ------------------------------------- -- 6.6/6.9 MB 4.6 MB/s eta 0:00:01\n",
            "   ---------------------------------------- 6.9/6.9 MB 4.5 MB/s  0:00:01\n",
            "Downloading smmap-5.0.2-py3-none-any.whl (24 kB)\n",
            "Downloading tenacity-9.1.2-py3-none-any.whl (28 kB)\n",
            "Downloading toml-0.10.2-py2.py3-none-any.whl (16 kB)\n",
            "Downloading watchdog-6.0.0-py3-none-win_amd64.whl (79 kB)\n",
            "Downloading pyarrow-21.0.0-cp313-cp313-win_amd64.whl (26.1 MB)\n",
            "   ---------------------------------------- 0.0/26.1 MB ? eta -:--:--\n",
            "   - -------------------------------------- 0.8/26.1 MB 5.0 MB/s eta 0:00:06\n",
            "   -- ------------------------------------- 1.8/26.1 MB 5.0 MB/s eta 0:00:05\n",
            "   ---- ----------------------------------- 3.1/26.1 MB 5.1 MB/s eta 0:00:05\n",
            "   ------ --------------------------------- 4.2/26.1 MB 5.1 MB/s eta 0:00:05\n",
            "   -------- ------------------------------- 5.2/26.1 MB 5.1 MB/s eta 0:00:05\n",
            "   --------- ------------------------------ 6.3/26.1 MB 5.1 MB/s eta 0:00:04\n",
            "   ----------- ---------------------------- 7.3/26.1 MB 5.1 MB/s eta 0:00:04\n",
            "   ------------ --------------------------- 8.4/26.1 MB 5.1 MB/s eta 0:00:04\n",
            "   -------------- ------------------------- 9.4/26.1 MB 5.0 MB/s eta 0:00:04\n",
            "   ---------------- ----------------------- 10.5/26.1 MB 5.0 MB/s eta 0:00:04\n",
            "   ----------------- ---------------------- 11.5/26.1 MB 5.0 MB/s eta 0:00:03\n",
            "   ------------------ --------------------- 12.3/26.1 MB 4.9 MB/s eta 0:00:03\n",
            "   ------------------- -------------------- 12.8/26.1 MB 4.8 MB/s eta 0:00:03\n",
            "   --------------------- ------------------ 13.9/26.1 MB 4.8 MB/s eta 0:00:03\n",
            "   ---------------------- ----------------- 14.9/26.1 MB 4.8 MB/s eta 0:00:03\n",
            "   ------------------------ --------------- 16.3/26.1 MB 4.8 MB/s eta 0:00:03\n",
            "   -------------------------- ------------- 17.3/26.1 MB 4.8 MB/s eta 0:00:02\n",
            "   ---------------------------- ----------- 18.4/26.1 MB 4.8 MB/s eta 0:00:02\n",
            "   ----------------------------- ---------- 19.1/26.1 MB 4.8 MB/s eta 0:00:02\n",
            "   ------------------------------- -------- 20.4/26.1 MB 4.8 MB/s eta 0:00:02\n",
            "   -------------------------------- ------- 21.5/26.1 MB 4.9 MB/s eta 0:00:01\n",
            "   ---------------------------------- ----- 22.5/26.1 MB 4.9 MB/s eta 0:00:01\n",
            "   ------------------------------------ --- 23.6/26.1 MB 4.9 MB/s eta 0:00:01\n",
            "   ------------------------------------- -- 24.6/26.1 MB 4.9 MB/s eta 0:00:01\n",
            "   ---------------------------------------  25.7/26.1 MB 4.9 MB/s eta 0:00:01\n",
            "   ---------------------------------------- 26.1/26.1 MB 4.8 MB/s  0:00:05\n",
            "Installing collected packages: watchdog, toml, tenacity, smmap, pyarrow, protobuf, click, cachetools, blinker, pydeck, gitdb, gitpython, altair, streamlit\n",
            "\n",
            "   ----- ----------------------------------  2/14 [tenacity]\n",
            "   ----------- ----------------------------  4/14 [pyarrow]\n",
            "   ----------- ----------------------------  4/14 [pyarrow]\n",
            "   ----------- ----------------------------  4/14 [pyarrow]\n",
            "   ----------- ----------------------------  4/14 [pyarrow]\n",
            "   ----------- ----------------------------  4/14 [pyarrow]\n",
            "   ----------- ----------------------------  4/14 [pyarrow]\n",
            "   ----------- ----------------------------  4/14 [pyarrow]\n",
            "   ----------- ----------------------------  4/14 [pyarrow]\n",
            "   ----------- ----------------------------  4/14 [pyarrow]\n",
            "   -------------- -------------------------  5/14 [protobuf]\n",
            "   -------------- -------------------------  5/14 [protobuf]\n",
            "   ----------------- ----------------------  6/14 [click]\n",
            "   ------------------------- --------------  9/14 [pydeck]\n",
            "   ------------------------- --------------  9/14 [pydeck]\n",
            "   ------------------------------- -------- 11/14 [gitpython]\n",
            "   ------------------------------- -------- 11/14 [gitpython]\n",
            "   ---------------------------------- ----- 12/14 [altair]\n",
            "   ---------------------------------- ----- 12/14 [altair]\n",
            "   ------------------------------------- -- 13/14 [streamlit]\n",
            "   ------------------------------------- -- 13/14 [streamlit]\n",
            "   ------------------------------------- -- 13/14 [streamlit]\n",
            "   ------------------------------------- -- 13/14 [streamlit]\n",
            "   ------------------------------------- -- 13/14 [streamlit]\n",
            "   ------------------------------------- -- 13/14 [streamlit]\n",
            "   ------------------------------------- -- 13/14 [streamlit]\n",
            "   ------------------------------------- -- 13/14 [streamlit]\n",
            "   ------------------------------------- -- 13/14 [streamlit]\n",
            "   ---------------------------------------- 14/14 [streamlit]\n",
            "\n",
            "Successfully installed altair-5.5.0 blinker-1.9.0 cachetools-6.1.0 click-8.2.1 gitdb-4.0.12 gitpython-3.1.45 protobuf-6.31.1 pyarrow-21.0.0 pydeck-0.9.1 smmap-5.0.2 streamlit-1.47.1 tenacity-9.1.2 toml-0.10.2 watchdog-6.0.0\n"
          ]
        }
      ],
      "source": [
        "!pip install streamlit"
      ]
    },
    {
      "cell_type": "code",
      "execution_count": 38,
      "metadata": {},
      "outputs": [
        {
          "name": "stdout",
          "output_type": "stream",
          "text": [
            "Collecting onnxruntime\n",
            "  Downloading onnxruntime-1.22.1-cp313-cp313-win_amd64.whl.metadata (5.1 kB)\n",
            "Collecting coloredlogs (from onnxruntime)\n",
            "  Downloading coloredlogs-15.0.1-py2.py3-none-any.whl.metadata (12 kB)\n",
            "Collecting flatbuffers (from onnxruntime)\n",
            "  Downloading flatbuffers-25.2.10-py2.py3-none-any.whl.metadata (875 bytes)\n",
            "Requirement already satisfied: numpy>=1.21.6 in c:\\users\\palak\\appdata\\local\\programs\\python\\python313\\lib\\site-packages (from onnxruntime) (2.2.6)\n",
            "Requirement already satisfied: packaging in c:\\users\\palak\\appdata\\roaming\\python\\python313\\site-packages (from onnxruntime) (25.0)\n",
            "Requirement already satisfied: protobuf in c:\\users\\palak\\appdata\\local\\programs\\python\\python313\\lib\\site-packages (from onnxruntime) (6.31.1)\n",
            "Collecting sympy (from onnxruntime)\n",
            "  Downloading sympy-1.14.0-py3-none-any.whl.metadata (12 kB)\n",
            "Collecting humanfriendly>=9.1 (from coloredlogs->onnxruntime)\n",
            "  Downloading humanfriendly-10.0-py2.py3-none-any.whl.metadata (9.2 kB)\n",
            "Collecting pyreadline3 (from humanfriendly>=9.1->coloredlogs->onnxruntime)\n",
            "  Downloading pyreadline3-3.5.4-py3-none-any.whl.metadata (4.7 kB)\n",
            "Collecting mpmath<1.4,>=1.1.0 (from sympy->onnxruntime)\n",
            "  Downloading mpmath-1.3.0-py3-none-any.whl.metadata (8.6 kB)\n",
            "Downloading onnxruntime-1.22.1-cp313-cp313-win_amd64.whl (12.7 MB)\n",
            "   ---------------------------------------- 0.0/12.7 MB ? eta -:--:--\n",
            "   -- ------------------------------------- 0.8/12.7 MB 5.3 MB/s eta 0:00:03\n",
            "   ----- ---------------------------------- 1.8/12.7 MB 5.1 MB/s eta 0:00:03\n",
            "   --------- ------------------------------ 3.1/12.7 MB 5.2 MB/s eta 0:00:02\n",
            "   ------------- -------------------------- 4.2/12.7 MB 5.2 MB/s eta 0:00:02\n",
            "   ---------------- ----------------------- 5.2/12.7 MB 5.2 MB/s eta 0:00:02\n",
            "   ------------------- -------------------- 6.3/12.7 MB 5.2 MB/s eta 0:00:02\n",
            "   ---------------------- ----------------- 7.1/12.7 MB 5.2 MB/s eta 0:00:02\n",
            "   ----------------------- ---------------- 7.6/12.7 MB 4.8 MB/s eta 0:00:02\n",
            "   ------------------------ --------------- 7.9/12.7 MB 4.3 MB/s eta 0:00:02\n",
            "   ---------------------------- ----------- 8.9/12.7 MB 4.3 MB/s eta 0:00:01\n",
            "   ------------------------------ --------- 9.7/12.7 MB 4.4 MB/s eta 0:00:01\n",
            "   --------------------------------- ------ 10.7/12.7 MB 4.4 MB/s eta 0:00:01\n",
            "   ------------------------------------- -- 11.8/12.7 MB 4.4 MB/s eta 0:00:01\n",
            "   ---------------------------------------  12.6/12.7 MB 4.4 MB/s eta 0:00:01\n",
            "   ---------------------------------------- 12.7/12.7 MB 4.4 MB/s  0:00:02\n",
            "Downloading coloredlogs-15.0.1-py2.py3-none-any.whl (46 kB)\n",
            "Downloading humanfriendly-10.0-py2.py3-none-any.whl (86 kB)\n",
            "Downloading flatbuffers-25.2.10-py2.py3-none-any.whl (30 kB)\n",
            "Downloading pyreadline3-3.5.4-py3-none-any.whl (83 kB)\n",
            "Downloading sympy-1.14.0-py3-none-any.whl (6.3 MB)\n",
            "   ---------------------------------------- 0.0/6.3 MB ? eta -:--:--\n",
            "   ------ --------------------------------- 1.0/6.3 MB 5.3 MB/s eta 0:00:01\n",
            "   ------------- -------------------------- 2.1/6.3 MB 5.2 MB/s eta 0:00:01\n",
            "   ------------------- -------------------- 3.1/6.3 MB 5.2 MB/s eta 0:00:01\n",
            "   -------------------------- ------------- 4.2/6.3 MB 5.2 MB/s eta 0:00:01\n",
            "   --------------------------------- ------ 5.2/6.3 MB 5.2 MB/s eta 0:00:01\n",
            "   ---------------------------------------  6.3/6.3 MB 5.2 MB/s eta 0:00:01\n",
            "   ---------------------------------------- 6.3/6.3 MB 5.0 MB/s  0:00:01\n",
            "Downloading mpmath-1.3.0-py3-none-any.whl (536 kB)\n",
            "   ---------------------------------------- 0.0/536.2 kB ? eta -:--:--\n",
            "   ---------------------------------------- 536.2/536.2 kB 4.3 MB/s  0:00:00\n",
            "Installing collected packages: mpmath, flatbuffers, sympy, pyreadline3, humanfriendly, coloredlogs, onnxruntime\n",
            "\n",
            "   ---------------------------------------- 0/7 [mpmath]\n",
            "   ---------------------------------------- 0/7 [mpmath]\n",
            "   ---------------------------------------- 0/7 [mpmath]\n",
            "   ----------- ---------------------------- 2/7 [sympy]\n",
            "   ----------- ---------------------------- 2/7 [sympy]\n",
            "   ----------- ---------------------------- 2/7 [sympy]\n",
            "   ----------- ---------------------------- 2/7 [sympy]\n",
            "   ----------- ---------------------------- 2/7 [sympy]\n",
            "   ----------- ---------------------------- 2/7 [sympy]\n",
            "   ----------- ---------------------------- 2/7 [sympy]\n",
            "   ----------- ---------------------------- 2/7 [sympy]\n",
            "   ----------- ---------------------------- 2/7 [sympy]\n",
            "   ----------- ---------------------------- 2/7 [sympy]\n",
            "   ----------- ---------------------------- 2/7 [sympy]\n",
            "   ----------- ---------------------------- 2/7 [sympy]\n",
            "   ----------- ---------------------------- 2/7 [sympy]\n",
            "   ----------- ---------------------------- 2/7 [sympy]\n",
            "   ----------- ---------------------------- 2/7 [sympy]\n",
            "   ----------- ---------------------------- 2/7 [sympy]\n",
            "   ----------- ---------------------------- 2/7 [sympy]\n",
            "   ----------- ---------------------------- 2/7 [sympy]\n",
            "   ----------- ---------------------------- 2/7 [sympy]\n",
            "   ----------- ---------------------------- 2/7 [sympy]\n",
            "   ----------- ---------------------------- 2/7 [sympy]\n",
            "   ----------- ---------------------------- 2/7 [sympy]\n",
            "   ----------- ---------------------------- 2/7 [sympy]\n",
            "   ----------- ---------------------------- 2/7 [sympy]\n",
            "   ----------- ---------------------------- 2/7 [sympy]\n",
            "   ----------- ---------------------------- 2/7 [sympy]\n",
            "   ----------- ---------------------------- 2/7 [sympy]\n",
            "   ----------- ---------------------------- 2/7 [sympy]\n",
            "   ----------- ---------------------------- 2/7 [sympy]\n",
            "   ----------- ---------------------------- 2/7 [sympy]\n",
            "   ----------- ---------------------------- 2/7 [sympy]\n",
            "   ----------- ---------------------------- 2/7 [sympy]\n",
            "   ----------- ---------------------------- 2/7 [sympy]\n",
            "   ----------- ---------------------------- 2/7 [sympy]\n",
            "   ----------- ---------------------------- 2/7 [sympy]\n",
            "   ----------- ---------------------------- 2/7 [sympy]\n",
            "   ----------- ---------------------------- 2/7 [sympy]\n",
            "   ----------- ---------------------------- 2/7 [sympy]\n",
            "   ----------- ---------------------------- 2/7 [sympy]\n",
            "   ----------- ---------------------------- 2/7 [sympy]\n",
            "   ----------- ---------------------------- 2/7 [sympy]\n",
            "   ----------- ---------------------------- 2/7 [sympy]\n",
            "   ----------- ---------------------------- 2/7 [sympy]\n",
            "   ----------- ---------------------------- 2/7 [sympy]\n",
            "   ----------- ---------------------------- 2/7 [sympy]\n",
            "   ----------- ---------------------------- 2/7 [sympy]\n",
            "   ----------- ---------------------------- 2/7 [sympy]\n",
            "   ----------- ---------------------------- 2/7 [sympy]\n",
            "   ----------- ---------------------------- 2/7 [sympy]\n",
            "   ----------- ---------------------------- 2/7 [sympy]\n",
            "   ----------- ---------------------------- 2/7 [sympy]\n",
            "   ----------- ---------------------------- 2/7 [sympy]\n",
            "   ----------- ---------------------------- 2/7 [sympy]\n",
            "   ----------- ---------------------------- 2/7 [sympy]\n",
            "   ----------- ---------------------------- 2/7 [sympy]\n",
            "   ----------- ---------------------------- 2/7 [sympy]\n",
            "   ----------- ---------------------------- 2/7 [sympy]\n",
            "   ----------- ---------------------------- 2/7 [sympy]\n",
            "   ----------- ---------------------------- 2/7 [sympy]\n",
            "   ----------------- ---------------------- 3/7 [pyreadline3]\n",
            "   ---------------------- ----------------- 4/7 [humanfriendly]\n",
            "   ---------------------------------- ----- 6/7 [onnxruntime]\n",
            "   ---------------------------------- ----- 6/7 [onnxruntime]\n",
            "   ---------------------------------- ----- 6/7 [onnxruntime]\n",
            "   ---------------------------------- ----- 6/7 [onnxruntime]\n",
            "   ---------------------------------- ----- 6/7 [onnxruntime]\n",
            "   ---------------------------------- ----- 6/7 [onnxruntime]\n",
            "   ---------------------------------- ----- 6/7 [onnxruntime]\n",
            "   ---------------------------------- ----- 6/7 [onnxruntime]\n",
            "   ---------------------------------- ----- 6/7 [onnxruntime]\n",
            "   ---------------------------------------- 7/7 [onnxruntime]\n",
            "\n",
            "Successfully installed coloredlogs-15.0.1 flatbuffers-25.2.10 humanfriendly-10.0 mpmath-1.3.0 onnxruntime-1.22.1 pyreadline3-3.5.4 sympy-1.14.0\n"
          ]
        }
      ],
      "source": [
        "!pip install onnxruntime\n"
      ]
    },
    {
      "cell_type": "code",
      "execution_count": 39,
      "metadata": {
        "id": "4PTfgxTNMma7"
      },
      "outputs": [
        {
          "name": "stderr",
          "output_type": "stream",
          "text": [
            "2025-08-03 15:50:29.235 WARNING streamlit.runtime.scriptrunner_utils.script_run_context: Thread 'MainThread': missing ScriptRunContext! This warning can be ignored when running in bare mode.\n",
            "2025-08-03 15:50:29.236 WARNING streamlit.runtime.scriptrunner_utils.script_run_context: Thread 'MainThread': missing ScriptRunContext! This warning can be ignored when running in bare mode.\n",
            "2025-08-03 15:50:29.302 \n",
            "  \u001b[33m\u001b[1mWarning:\u001b[0m to view this Streamlit app on a browser, run it with the following\n",
            "  command:\n",
            "\n",
            "    streamlit run C:\\Users\\palak\\AppData\\Roaming\\Python\\Python313\\site-packages\\ipykernel_launcher.py [ARGUMENTS]\n",
            "2025-08-03 15:50:29.303 Thread 'MainThread': missing ScriptRunContext! This warning can be ignored when running in bare mode.\n",
            "2025-08-03 15:50:29.304 Thread 'MainThread': missing ScriptRunContext! This warning can be ignored when running in bare mode.\n",
            "2025-08-03 15:50:29.305 Thread 'MainThread': missing ScriptRunContext! This warning can be ignored when running in bare mode.\n",
            "2025-08-03 15:50:29.305 Thread 'MainThread': missing ScriptRunContext! This warning can be ignored when running in bare mode.\n",
            "2025-08-03 15:50:29.306 Thread 'MainThread': missing ScriptRunContext! This warning can be ignored when running in bare mode.\n",
            "2025-08-03 15:50:29.308 Thread 'MainThread': missing ScriptRunContext! This warning can be ignored when running in bare mode.\n",
            "2025-08-03 15:50:29.308 Thread 'MainThread': missing ScriptRunContext! This warning can be ignored when running in bare mode.\n",
            "2025-08-03 15:50:29.309 Thread 'MainThread': missing ScriptRunContext! This warning can be ignored when running in bare mode.\n",
            "2025-08-03 15:50:29.310 Thread 'MainThread': missing ScriptRunContext! This warning can be ignored when running in bare mode.\n",
            "2025-08-03 15:50:29.312 Thread 'MainThread': missing ScriptRunContext! This warning can be ignored when running in bare mode.\n",
            "2025-08-03 15:50:29.313 Thread 'MainThread': missing ScriptRunContext! This warning can be ignored when running in bare mode.\n",
            "2025-08-03 15:50:29.314 Thread 'MainThread': missing ScriptRunContext! This warning can be ignored when running in bare mode.\n",
            "2025-08-03 15:50:29.315 Thread 'MainThread': missing ScriptRunContext! This warning can be ignored when running in bare mode.\n",
            "2025-08-03 15:50:29.315 Thread 'MainThread': missing ScriptRunContext! This warning can be ignored when running in bare mode.\n",
            "2025-08-03 15:50:29.316 Thread 'MainThread': missing ScriptRunContext! This warning can be ignored when running in bare mode.\n",
            "2025-08-03 15:50:29.316 Session state does not function when running a script without `streamlit run`\n",
            "2025-08-03 15:50:29.319 Thread 'MainThread': missing ScriptRunContext! This warning can be ignored when running in bare mode.\n",
            "2025-08-03 15:50:29.322 Thread 'MainThread': missing ScriptRunContext! This warning can be ignored when running in bare mode.\n",
            "2025-08-03 15:50:29.323 Thread 'MainThread': missing ScriptRunContext! This warning can be ignored when running in bare mode.\n",
            "2025-08-03 15:50:29.324 Thread 'MainThread': missing ScriptRunContext! This warning can be ignored when running in bare mode.\n",
            "2025-08-03 15:50:29.325 Thread 'MainThread': missing ScriptRunContext! This warning can be ignored when running in bare mode.\n",
            "2025-08-03 15:50:29.326 Thread 'MainThread': missing ScriptRunContext! This warning can be ignored when running in bare mode.\n",
            "2025-08-03 15:50:29.327 Thread 'MainThread': missing ScriptRunContext! This warning can be ignored when running in bare mode.\n",
            "2025-08-03 15:50:29.327 Thread 'MainThread': missing ScriptRunContext! This warning can be ignored when running in bare mode.\n",
            "2025-08-03 15:50:29.328 Thread 'MainThread': missing ScriptRunContext! This warning can be ignored when running in bare mode.\n",
            "2025-08-03 15:50:29.329 Thread 'MainThread': missing ScriptRunContext! This warning can be ignored when running in bare mode.\n",
            "2025-08-03 15:50:29.329 Thread 'MainThread': missing ScriptRunContext! This warning can be ignored when running in bare mode.\n",
            "2025-08-03 15:50:29.330 Thread 'MainThread': missing ScriptRunContext! This warning can be ignored when running in bare mode.\n",
            "2025-08-03 15:50:29.330 Thread 'MainThread': missing ScriptRunContext! This warning can be ignored when running in bare mode.\n",
            "2025-08-03 15:50:29.331 Thread 'MainThread': missing ScriptRunContext! This warning can be ignored when running in bare mode.\n",
            "2025-08-03 15:50:29.332 Thread 'MainThread': missing ScriptRunContext! This warning can be ignored when running in bare mode.\n",
            "2025-08-03 15:50:29.333 Thread 'MainThread': missing ScriptRunContext! This warning can be ignored when running in bare mode.\n",
            "2025-08-03 15:50:29.334 Thread 'MainThread': missing ScriptRunContext! This warning can be ignored when running in bare mode.\n",
            "2025-08-03 15:50:29.334 Thread 'MainThread': missing ScriptRunContext! This warning can be ignored when running in bare mode.\n",
            "2025-08-03 15:50:29.335 Thread 'MainThread': missing ScriptRunContext! This warning can be ignored when running in bare mode.\n",
            "2025-08-03 15:50:29.335 Thread 'MainThread': missing ScriptRunContext! This warning can be ignored when running in bare mode.\n",
            "2025-08-03 15:50:29.335 Thread 'MainThread': missing ScriptRunContext! This warning can be ignored when running in bare mode.\n",
            "2025-08-03 15:50:29.336 Thread 'MainThread': missing ScriptRunContext! This warning can be ignored when running in bare mode.\n",
            "2025-08-03 15:50:29.336 Thread 'MainThread': missing ScriptRunContext! This warning can be ignored when running in bare mode.\n",
            "2025-08-03 15:50:29.337 Thread 'MainThread': missing ScriptRunContext! This warning can be ignored when running in bare mode.\n",
            "2025-08-03 15:50:29.337 Thread 'MainThread': missing ScriptRunContext! This warning can be ignored when running in bare mode.\n",
            "2025-08-03 15:50:29.338 Thread 'MainThread': missing ScriptRunContext! This warning can be ignored when running in bare mode.\n",
            "2025-08-03 15:50:29.338 Thread 'MainThread': missing ScriptRunContext! This warning can be ignored when running in bare mode.\n",
            "2025-08-03 15:50:29.339 Thread 'MainThread': missing ScriptRunContext! This warning can be ignored when running in bare mode.\n",
            "2025-08-03 15:50:29.339 Thread 'MainThread': missing ScriptRunContext! This warning can be ignored when running in bare mode.\n",
            "2025-08-03 15:50:29.340 Thread 'MainThread': missing ScriptRunContext! This warning can be ignored when running in bare mode.\n",
            "2025-08-03 15:50:29.340 Thread 'MainThread': missing ScriptRunContext! This warning can be ignored when running in bare mode.\n",
            "2025-08-03 15:50:29.341 Thread 'MainThread': missing ScriptRunContext! This warning can be ignored when running in bare mode.\n",
            "2025-08-03 15:50:29.341 Thread 'MainThread': missing ScriptRunContext! This warning can be ignored when running in bare mode.\n",
            "2025-08-03 15:50:29.342 Thread 'MainThread': missing ScriptRunContext! This warning can be ignored when running in bare mode.\n",
            "2025-08-03 15:50:29.344 Thread 'MainThread': missing ScriptRunContext! This warning can be ignored when running in bare mode.\n",
            "2025-08-03 15:50:29.344 Thread 'MainThread': missing ScriptRunContext! This warning can be ignored when running in bare mode.\n",
            "2025-08-03 15:50:29.345 Thread 'MainThread': missing ScriptRunContext! This warning can be ignored when running in bare mode.\n",
            "2025-08-03 15:50:29.346 Thread 'MainThread': missing ScriptRunContext! This warning can be ignored when running in bare mode.\n",
            "2025-08-03 15:50:29.347 Thread 'MainThread': missing ScriptRunContext! This warning can be ignored when running in bare mode.\n",
            "2025-08-03 15:50:29.348 Thread 'MainThread': missing ScriptRunContext! This warning can be ignored when running in bare mode.\n",
            "2025-08-03 15:50:29.349 Thread 'MainThread': missing ScriptRunContext! This warning can be ignored when running in bare mode.\n",
            "2025-08-03 15:50:29.351 Thread 'MainThread': missing ScriptRunContext! This warning can be ignored when running in bare mode.\n",
            "2025-08-03 15:50:29.351 Thread 'MainThread': missing ScriptRunContext! This warning can be ignored when running in bare mode.\n",
            "2025-08-03 15:50:29.352 Thread 'MainThread': missing ScriptRunContext! This warning can be ignored when running in bare mode.\n",
            "2025-08-03 15:50:29.353 Thread 'MainThread': missing ScriptRunContext! This warning can be ignored when running in bare mode.\n",
            "2025-08-03 15:50:29.354 Thread 'MainThread': missing ScriptRunContext! This warning can be ignored when running in bare mode.\n"
          ]
        }
      ],
      "source": [
        "import streamlit as st\n",
        "import numpy as np\n",
        "import onnxruntime as ort\n",
        "import pandas as pd\n",
        "\n",
        "# Load ONNX model\n",
        "session = ort.InferenceSession(\"catboost_model.onnx\")\n",
        "\n",
        "# Get model input name\n",
        "input_name = session.get_inputs()[0].name\n",
        "output_name = session.get_outputs()[0].name\n",
        "\n",
        "st.set_page_config(page_title=\"Loan Default Predictor\", layout=\"centered\")\n",
        "\n",
        "st.title(\"🏦 Loan Default Predictor (CatBoost + ONNX)\")\n",
        "st.markdown(\"Enter applicant details to predict the risk of loan default.\")\n",
        "\n",
        "# Define feature inputs (same order and features used during training!)\n",
        "def user_input():\n",
        "    age = st.slider(\"Age\", 21, 70, 30)\n",
        "    income = st.number_input(\"Income\", 20000, 200000, 50000)\n",
        "    loan_amount = st.number_input(\"Loan Amount\", 1000, 150000, 10000)\n",
        "    credit_score = st.slider(\"Credit Score\", 300, 850, 650)\n",
        "    months_employed = st.slider(\"Months Employed\", 0, 360, 24)\n",
        "    num_credit_lines = st.slider(\"Number of Credit Lines\", 1, 15, 5)\n",
        "    interest_rate = st.slider(\"Interest Rate (%)\", 3.0, 25.0, 10.0)\n",
        "    dti_ratio = st.slider(\"DTI Ratio\", 0.1, 1.0, 0.3)\n",
        "\n",
        "    # Add more fields as required by your model\n",
        "\n",
        "    data = np.array([[\n",
        "        age, income, loan_amount, credit_score, months_employed,\n",
        "        num_credit_lines, interest_rate, dti_ratio\n",
        "        # 👆 Add other inputs in same order as training\n",
        "    ]], dtype=np.float32)\n",
        "\n",
        "    return data\n",
        "\n",
        "input_data = user_input()\n",
        "\n",
        "if st.button(\"🔍 Predict\"):\n",
        "    prediction = session.run([output_name], {input_name: input_data})[0]\n",
        "    result = int(prediction[0])\n",
        "    if result == 1:\n",
        "        st.error(\"❌ High Risk: Likely to Default\")\n",
        "    else:\n",
        "        st.success(\"✅ Low Risk: Unlikely to Default\")\n"
      ]
    },
    {
      "cell_type": "code",
      "execution_count": 40,
      "metadata": {},
      "outputs": [
        {
          "name": "stdout",
          "output_type": "stream",
          "text": [
            "c:\\Users\\palak\\Downloads\n"
          ]
        }
      ],
      "source": [
        "import os\n",
        "print(os.getcwd())"
      ]
    },
    {
      "cell_type": "code",
      "execution_count": null,
      "metadata": {},
      "outputs": [],
      "source": []
    }
  ],
  "metadata": {
    "colab": {
      "provenance": []
    },
    "kernelspec": {
      "display_name": "Python 3",
      "name": "python3"
    },
    "language_info": {
      "codemirror_mode": {
        "name": "ipython",
        "version": 3
      },
      "file_extension": ".py",
      "mimetype": "text/x-python",
      "name": "python",
      "nbconvert_exporter": "python",
      "pygments_lexer": "ipython3",
      "version": "3.13.3"
    }
  },
  "nbformat": 4,
  "nbformat_minor": 0
}
